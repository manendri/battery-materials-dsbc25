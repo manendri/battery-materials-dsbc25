{
 "cells": [
  {
   "cell_type": "markdown",
   "id": "2e76039a-66f6-4cdf-9511-9d3a2fb4ca45",
   "metadata": {},
   "source": [
    "This notebook conducts the final test of two select linear regression models:\n",
    "- OLS linear regression over the 'raw' Stoich45 Intersection features\n",
    "- Ridge regression (with alpha = 0.13) over all linear and quadratic polynomial features generated from the Stoich45 Intersection featureset\n",
    "\n",
    "These two models were selected from the many linear regression models that were investigated in linear_regression_ajk.ipynb for having a good balance between complexity and cross-validation performance."
   ]
  },
  {
   "cell_type": "code",
   "execution_count": 2,
   "id": "bd72537b-3f6c-4c87-97d8-acf75970640f",
   "metadata": {},
   "outputs": [],
   "source": [
    "import pandas as pd\n",
    "import numpy as np\n",
    "\n",
    "from sklearn.preprocessing import StandardScaler, PolynomialFeatures\n",
    "from sklearn.linear_model import LinearRegression, Ridge\n",
    "from sklearn.pipeline import Pipeline\n",
    "from sklearn.metrics import mean_squared_error, mean_absolute_error"
   ]
  },
  {
   "cell_type": "markdown",
   "id": "642f3ee9-0078-4888-aa88-d8cc7b15a388",
   "metadata": {},
   "source": [
    "##### import training and test sets:"
   ]
  },
  {
   "cell_type": "code",
   "execution_count": 3,
   "id": "0c1d19ac-dc68-4131-bbd9-377a87ae69f4",
   "metadata": {},
   "outputs": [],
   "source": [
    "df_stoich45Int_train = pd.read_csv('../data/datasets_main/Stoich45_FeatureSelected_dataset.csv', sep=',').drop(columns = ['MOF'])\n",
    "df_stoich45Int_test = pd.read_csv('../data/datasets_main/Stoich45_FeatureSelected_test_set.csv', sep=',').drop(columns = ['MOF'])"
   ]
  },
  {
   "cell_type": "markdown",
   "id": "86d14cf0-f921-4046-a148-b6b7e7013c7b",
   "metadata": {},
   "source": [
    "##### define a function that fits, predict, and prints the training and test errors:"
   ]
  },
  {
   "cell_type": "code",
   "execution_count": 14,
   "id": "ebfb9225-9864-4b58-8500-57c42b11047b",
   "metadata": {},
   "outputs": [],
   "source": [
    "target = 'outputs.hse06.bandgap'\n",
    "\n",
    "def print_training_and_test_mse_and_mae(model, df_train, df_test, target):\n",
    "    \n",
    "    model.fit(df_train.drop(columns = [target]), df_train[target])\n",
    "    \n",
    "    train_preds = model.predict(df_train.drop(columns = [target]))\n",
    "    test_preds = model.predict(df_test.drop(columns = [target]))\n",
    "    \n",
    "    print(f\"{'Training MSE = ':>25}{mean_squared_error(df_train[target], train_preds)}\")\n",
    "    print(f\"{'Test MSE = ':>25}{mean_squared_error(df_test[target], test_preds)}\")\n",
    "    print()\n",
    "    print(f\"{'Training MAE = ':>25}{mean_absolute_error(df_train[target], train_preds)}\")\n",
    "    print(f\"{'Test MAE = ':>25}{mean_absolute_error(df_test[target], test_preds)}\")\n"
   ]
  },
  {
   "cell_type": "markdown",
   "id": "dd81036d-04d3-4926-9f07-87c7622dae16",
   "metadata": {},
   "source": [
    "#### Model 1: OLS Linear Regression over the 'raw' Stoich45 Intersection features"
   ]
  },
  {
   "cell_type": "code",
   "execution_count": 13,
   "id": "d0137601-7f42-4354-ae0e-f3720adc9ad7",
   "metadata": {},
   "outputs": [
    {
     "name": "stdout",
     "output_type": "stream",
     "text": [
      "          Training MSE = 0.6782643850534067\n",
      "              Test MSE = 0.6588399880284861\n",
      "\n",
      "          Training MAE = 0.6351406931850575\n",
      "              Test MAE = 0.6238870347745372\n"
     ]
    }
   ],
   "source": [
    "model = LinearRegression()\n",
    "print_training_and_test_mse_and_mae(model, df_stoich45Int_train, df_stoich45Int_test, target)"
   ]
  },
  {
   "cell_type": "markdown",
   "id": "ef57576c-d36c-4f32-99dc-7b17d5fc3f80",
   "metadata": {},
   "source": [
    "#### Model 2: Ridge regression (with alpha = 0.13) over all linear and quadratic polynomial features"
   ]
  },
  {
   "cell_type": "code",
   "execution_count": 12,
   "id": "e8819f1b-d79b-4161-900d-b946e52fdaf4",
   "metadata": {},
   "outputs": [
    {
     "name": "stdout",
     "output_type": "stream",
     "text": [
      "          Training MSE = 0.5385639637119429\n",
      "              Test MSE = 0.5665684896385375\n",
      "\n",
      "          Training MAE = 0.5662064870345863\n",
      "              Test MAE = 0.5705630370873087\n"
     ]
    }
   ],
   "source": [
    "model = Pipeline([\n",
    "    ('poly', PolynomialFeatures(degree=2, include_bias = False)),\n",
    "    ('scaler', StandardScaler()),\n",
    "    ('ridge', Ridge(alpha=0.13))\n",
    "])\n",
    "print_training_and_test_mse_and_mae(model, df_stoich45Int_train, df_stoich45Int_test, target)"
   ]
  }
 ],
 "metadata": {
  "kernelspec": {
   "display_name": "Python 3 (ipykernel)",
   "language": "python",
   "name": "python3"
  },
  "language_info": {
   "codemirror_mode": {
    "name": "ipython",
    "version": 3
   },
   "file_extension": ".py",
   "mimetype": "text/x-python",
   "name": "python",
   "nbconvert_exporter": "python",
   "pygments_lexer": "ipython3",
   "version": "3.12.7"
  }
 },
 "nbformat": 4,
 "nbformat_minor": 5
}
