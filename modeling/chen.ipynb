{
 "cells": [
  {
   "cell_type": "code",
   "execution_count": 10,
   "metadata": {},
   "outputs": [],
   "source": [
    "import os\n",
    "import numpy as np\n",
    "import pandas as pd\n",
    "import matplotlib.pyplot as plt\n",
    "import seaborn as sns\n",
    "from sklearn.model_selection import KFold,cross_val_score\n",
    "from sklearn.metrics import mean_squared_error\n",
    "from sklearn.pipeline import Pipeline\n",
    "from sklearn.preprocessing import StandardScaler\n",
    "from sklearn.linear_model import LinearRegression, Ridge, Lasso\n",
    "from sklearn.neighbors import KNeighborsRegressor\n",
    "from sklearn.svm import SVR\n",
    "from sklearn.linear_model import BayesianRidge"
   ]
  },
  {
   "cell_type": "code",
   "execution_count": 2,
   "metadata": {},
   "outputs": [],
   "source": [
    "feature_sets = []\n",
    "feature_set_labels = []\n",
    "\n",
    "# import three base feature sets\n",
    "feature_sets.append(pd.read_csv('C:/Users/cqyzxy/Downloads/Stoich45_PCA_dataset.csv', sep=','))\n",
    "feature_set_labels.append('Stoich45 PCs')\n",
    "# ... rename principal component columns to be more descriptive\n",
    "feature_sets[0] = feature_sets[0].rename(columns = dict([[str(i), 'stoich45 PC '+str(i+1)] for i in range(8)]))\n",
    "\n",
    "feature_sets.append(pd.read_csv('C:/Users/cqyzxy/Downloads/Stoich45_FeatureSelected_dataset.csv', sep=','))\n",
    "feature_set_labels.append('Stoich45 intersection')\n",
    "\n",
    "feature_sets.append(pd.read_csv('C:/Users/cqyzxy/Downloads/SCM_PCA_trainingStoich45_dataset.csv', sep=','))\n",
    "feature_set_labels.append('SCM PCs')\n",
    "\n",
    "# merge to form last two\n",
    "feature_sets.append(feature_sets[0].merge(feature_sets[2]))\n",
    "feature_set_labels.append('Stoich45 PCs + SCM PCs')\n",
    "\n",
    "feature_sets.append(feature_sets[1].merge(feature_sets[2]))\n",
    "feature_set_labels.append('Stoich45 intersection + SCM PCs')\n",
    "\n",
    "# drop MOF column and rename target in all feature sets\n",
    "feature_sets = [fs.drop(columns = ['MOF']).rename(columns = {'outputs.hse06.bandgap': 'HSE06 Bandgap'}) for fs in feature_sets]\n",
    "\n"
   ]
  },
  {
   "cell_type": "code",
   "execution_count": 3,
   "metadata": {},
   "outputs": [],
   "source": [
    "target = 'HSE06 Bandgap'\n",
    "kfold = KFold(n_splits = 4, shuffle = True, random_state = 1234)\n",
    "\n",
    "def get_mean_cv_mse(model, df_feature_set):\n",
    "     return -cross_val_score(\n",
    "         model,\n",
    "         X = df_feature_set.drop(columns = [target]), y = df_feature_set[target],\n",
    "         cv = kfold, scoring = 'neg_mean_squared_error',\n",
    "         n_jobs = 4\n",
    "     ).mean()\n",
    "\n"
   ]
  },
  {
   "cell_type": "markdown",
   "metadata": {},
   "source": [
    "# KNR"
   ]
  },
  {
   "cell_type": "code",
   "execution_count": null,
   "metadata": {},
   "outputs": [
    {
     "name": "stdout",
     "output_type": "stream",
     "text": [
      "Feature Set                        Cross-Validation MSE\n",
      "Stoich45 PCs                       0.682927\n",
      "Stoich45 intersection              0.699272\n",
      "SCM PCs                            0.897325\n",
      "Stoich45 PCs + SCM PCs             0.682806\n",
      "Stoich45 intersection + SCM PCs    0.699215\n"
     ]
    }
   ],
   "source": [
    "knn_cv_mse = np.zeros((len(feature_sets),))\n",
    "print(f\"{'Feature Set':<35}{'Cross-Validation MSE'}\")\n",
    "\n",
    "for i, fs in enumerate(feature_sets):\n",
    "    knn_cv_mse[i] = get_mean_cv_mse(KNeighborsRegressor(n_neighbors=5), fs)\n",
    "    print(f\"{feature_set_labels[i]:<35}{round(knn_cv_mse[i], 6)}\")\n",
    "    "
   ]
  },
  {
   "cell_type": "markdown",
   "metadata": {},
   "source": [
    "# SVR"
   ]
  },
  {
   "cell_type": "code",
   "execution_count": null,
   "metadata": {},
   "outputs": [
    {
     "name": "stdout",
     "output_type": "stream",
     "text": [
      "Feature Set                        Cross-Validation MSE\n",
      "Stoich45 PCs                       0.63584\n",
      "Stoich45 intersection              0.810698\n",
      "SCM PCs                            0.778956\n",
      "Stoich45 PCs + SCM PCs             0.635658\n",
      "Stoich45 intersection + SCM PCs    0.813524\n"
     ]
    }
   ],
   "source": [
    "svr_cv_mse = np.zeros((len(feature_sets),))\n",
    "print(f\"{'Feature Set':<35}{'Cross-Validation MSE'}\")\n",
    "\n",
    "for i, fs in enumerate(feature_sets):\n",
    "    svr_cv_mse[i] = get_mean_cv_mse(SVR(), fs)\n",
    "    print(f\"{feature_set_labels[i]:<35}{round(svr_cv_mse[i], 6)}\")\n",
    "    \n"
   ]
  },
  {
   "cell_type": "markdown",
   "metadata": {},
   "source": [
    "# Bayesian Ridge Regression"
   ]
  },
  {
   "cell_type": "code",
   "execution_count": 15,
   "metadata": {},
   "outputs": [
    {
     "name": "stdout",
     "output_type": "stream",
     "text": [
      "Feature Set                        Cross-Validation MSE     Estimated Alpha     Estimated Lambda\n",
      "Stoich45 PCs                       0.803307                 1.247673            129.998887\n",
      "Stoich45 intersection              0.687404                 1.466944            18.760048\n",
      "SCM PCs                            0.862288                 1.164813            0.00403\n",
      "Stoich45 PCs + SCM PCs             0.752608                 1.336373            0.011948\n",
      "Stoich45 intersection + SCM PCs    0.683951                 1.50771             0.047704\n"
     ]
    }
   ],
   "source": [
    "bayesridge_cv_mse = np.zeros((len(feature_sets),))\n",
    "alpha_values = np.zeros((len(feature_sets),))\n",
    "lambda_values = np.zeros((len(feature_sets),))  # Store lambda values\n",
    "\n",
    "print(f\"{'Feature Set':<35}{'Cross-Validation MSE':<25}{'Estimated Alpha':<20}{'Estimated Lambda'}\")\n",
    "\n",
    "for i, fs in enumerate(feature_sets):\n",
    "    model = BayesianRidge()\n",
    "    X = fs.drop(columns=[target])\n",
    "    y = fs[target]\n",
    "    \n",
    "    model.fit(X, y)  # Fit model to extract alpha_ and lambda_\n",
    "    \n",
    "    bayesridge_cv_mse[i] = get_mean_cv_mse(model, fs)\n",
    "    alpha_values[i] = model.alpha_\n",
    "    lambda_values[i] = model.lambda_  # Extract estimated lambda\n",
    "\n",
    "    print(f\"{feature_set_labels[i]:<35}{round(bayesridge_cv_mse[i], 6):<25}{round(alpha_values[i], 6):<20}{round(lambda_values[i], 6)}\")\n",
    "    \n"
   ]
  },
  {
   "cell_type": "markdown",
   "metadata": {},
   "source": [
    "$$\n",
    "\\alpha \\text{ Precision of noise (inverse of noise variance). A high value suggests low noise in the data.} \\\\\n",
    "\\lambda \\text{ Precision of the weights (inverse of weight variance). A high value suggests stronger regularization, shrinking weights toward zero.}\n",
    "$$\n"
   ]
  },
  {
   "cell_type": "code",
   "execution_count": null,
   "metadata": {},
   "outputs": [],
   "source": [
    "    "
   ]
  }
 ],
 "metadata": {
  "kernelspec": {
   "display_name": "erdos_spring_2025",
   "language": "python",
   "name": "python3"
  },
  "language_info": {
   "codemirror_mode": {
    "name": "ipython",
    "version": 3
   },
   "file_extension": ".py",
   "mimetype": "text/x-python",
   "name": "python",
   "nbconvert_exporter": "python",
   "pygments_lexer": "ipython3",
   "version": "3.12.8"
  }
 },
 "nbformat": 4,
 "nbformat_minor": 2
}
