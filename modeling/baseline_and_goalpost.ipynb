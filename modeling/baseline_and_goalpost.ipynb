{
 "cells": [
  {
   "cell_type": "markdown",
   "id": "da7a7986-c210-4385-ba3c-c795a7b9f66f",
   "metadata": {},
   "source": [
    "This notebook generates the cross-validation MSE and MAE and training MSE and MAE for two models to compare our modeling efforts against:\n",
    "- predicting the HSE06 bandgap by the mean HSE06 bandgap\n",
    "    - baseline: Our models should do a lot better than this.\n",
    "- predicting the HSE06 bandgap as a linear function of the PBE bandgap\n",
    "    - goalpost: Given the computational expense of computing the PBE bandgap, it would be great if our models matches the accuracy of this model or beats it."
   ]
  },
  {
   "cell_type": "code",
   "execution_count": 14,
   "id": "0256eeed-b74e-40ff-8acf-dd255d61fee5",
   "metadata": {},
   "outputs": [],
   "source": [
    "import pandas as pd\n",
    "import numpy as np\n",
    "import matplotlib.pyplot as plt\n",
    "\n",
    "from sklearn.linear_model import LinearRegression\n",
    "from sklearn.model_selection import KFold, cross_val_score, cross_validate\n",
    "from sklearn.metrics import mean_squared_error, mean_absolute_error"
   ]
  },
  {
   "cell_type": "markdown",
   "id": "fa1ed976-f128-4cac-8d28-fce827dc65a8",
   "metadata": {},
   "source": [
    "##### import bandgaps:"
   ]
  },
  {
   "cell_type": "code",
   "execution_count": 40,
   "id": "70e71a5a-4f30-480b-aacd-6ee31b8733d6",
   "metadata": {},
   "outputs": [],
   "source": [
    "# import the MOF ids from one of the reduced, training feature sets\n",
    "df_MOFs = pd.read_csv('../data/datasets_main/Stoich45_FeatureSelected_dataset.csv', sep=',')[['MOF']]\n",
    "\n",
    "# import qmof_ids and bandgaps from the original qmof csv\n",
    "df_qmof = pd.read_csv('../data/QMOF/qmof_database/qmof_database/qmof.csv', sep=',', usecols=['qmof_id','outputs.pbe.bandgap','outputs.hse06.bandgap'])\n",
    "\n",
    "# merge df_qmof onto df_stoich45Int to restrict to MOFs in the stoich45 training set and put them in the right order,\n",
    "# ... and delete MOF ids\n",
    "df_bandgaps = df_MOFs.merge(df_qmof, left_on='MOF', right_on='qmof_id', how='left').drop(columns = ['MOF', 'qmof_id'])"
   ]
  },
  {
   "cell_type": "markdown",
   "id": "ca27441c-1188-4df8-a0a6-ccda8a9186c1",
   "metadata": {},
   "source": [
    "##### make defintions for cross validation:"
   ]
  },
  {
   "cell_type": "code",
   "execution_count": 35,
   "id": "e40aad43-f00e-48d7-b596-d8de7b518f9c",
   "metadata": {},
   "outputs": [],
   "source": [
    "target = 'outputs.hse06.bandgap'\n",
    "kfold = KFold(n_splits = 4, shuffle = True, random_state = 1234)\n",
    "\n",
    "def get_mean_cv_mse(model, df_feature_set):\n",
    "     return -cross_val_score(\n",
    "         model,\n",
    "         X = df_feature_set.drop(columns = [target]), y = df_feature_set[target],\n",
    "         cv = kfold, scoring = 'neg_mean_squared_error',\n",
    "         n_jobs = 4\n",
    "     ).mean()\n",
    "\n",
    "def get_mean_cv_mse_and_mae(model, df_feature_set):\n",
    "    scores = cross_validate(\n",
    "        model,\n",
    "        X = df_feature_set.drop(columns = [target]), y = df_feature_set[target],\n",
    "        cv = kfold, scoring = ['neg_mean_squared_error', 'neg_mean_absolute_error'],\n",
    "        n_jobs = 4\n",
    "    )\n",
    "    return (-scores['test_neg_mean_squared_error'].mean(), -scores['test_neg_mean_absolute_error'].mean())\n",
    "\n",
    "def get_training_mse_and_mae(model, df_feature_set):\n",
    "    model.fit(df_feature_set.drop(columns = [target]), df_feature_set[target])\n",
    "    preds = model.predict(df_feature_set.drop(columns = [target]))\n",
    "    return (\n",
    "        mean_squared_error(df_feature_set[target], preds),\n",
    "        mean_absolute_error(df_feature_set[target], preds)\n",
    "    )\n",
    "    "
   ]
  },
  {
   "cell_type": "markdown",
   "id": "74ab69b8-2f3e-4d9c-ab8c-866405839b59",
   "metadata": {},
   "source": [
    "#### baseline\n",
    "What is the mean cross-validation MSE for the above k-fold split using just the constant predictor?"
   ]
  },
  {
   "cell_type": "code",
   "execution_count": 38,
   "id": "262b6a1d-b1f6-4af5-9fa2-fbad0116e9a2",
   "metadata": {},
   "outputs": [
    {
     "name": "stdout",
     "output_type": "stream",
     "text": [
      "Predicting the HSE06 bandgap by its mean:\n",
      "\n",
      "  Cross-Validation MSE = 1.1471062514401023\n",
      "          Training MSE = 1.14624060698406\n",
      "\n",
      "  Cross-Validation MAE = 0.8076878730740906\n",
      "          Training MAE = 0.8073838735312149\n"
     ]
    }
   ],
   "source": [
    "# create a data frame with just the target and a constant feature\n",
    "df_constant_only = df_bandgaps[[target]].copy()\n",
    "df_constant_only['constant'] = np.ones_like(df_bandgaps[target])\n",
    "\n",
    "# run linear regression on the above data set\n",
    "model = LinearRegression(fit_intercept = False)\n",
    "cv_mse_no_features, cv_mae_no_features = get_mean_cv_mse_and_mae(model, df_constant_only)\n",
    "train_mse_no_features, train_mae_no_features = get_training_mse_and_mae(model, df_constant_only)\n",
    "\n",
    "print('Predicting the HSE06 bandgap by its mean:\\n')\n",
    "print(f\"{'Cross-Validation MSE = ':>25}{cv_mse_no_features}\")\n",
    "print(f\"{'Training MSE = ':>25}{train_mse_no_features}\")\n",
    "print()\n",
    "print(f\"{'Cross-Validation MAE = ':>25}{cv_mae_no_features}\")\n",
    "print(f\"{'Training MAE = ':>25}{train_mae_no_features}\")"
   ]
  },
  {
   "cell_type": "markdown",
   "id": "6de2f3c4-fb03-4421-90b1-3fe2e81441d0",
   "metadata": {},
   "source": [
    "#### goalpost\n",
    "What is the mean cross-validation MSE for the above k-fold split using the PBE bandgap as the only feature in a linear model?"
   ]
  },
  {
   "cell_type": "code",
   "execution_count": 39,
   "id": "2926a68c-892c-414c-9dd7-09d0f7d0386a",
   "metadata": {},
   "outputs": [
    {
     "name": "stdout",
     "output_type": "stream",
     "text": [
      "Predicting the HSE06 bandgap as a linear function of the PBE bandgap:\n",
      "\n",
      "  Cross-Validation MSE = 0.3382744129126684\n",
      "          Training MSE = 0.33777515353575815\n",
      "\n",
      "  Cross-Validation MAE = 0.44612804418753527\n",
      "          Training MAE = 0.44587849931130136\n"
     ]
    }
   ],
   "source": [
    "model = LinearRegression()\n",
    "cv_mse_PBE, cv_mae_PBE = get_mean_cv_mse_and_mae(model, df_bandgaps)\n",
    "train_mse_PBE, train_mae_PBE = get_training_mse_and_mae(model, df_bandgaps)\n",
    "\n",
    "print('Predicting the HSE06 bandgap as a linear function of the PBE bandgap:\\n')\n",
    "print(f\"{'Cross-Validation MSE = ':>25}{cv_mse_PBE}\")\n",
    "print(f\"{'Training MSE = ':>25}{train_mse_PBE}\")\n",
    "print()\n",
    "print(f\"{'Cross-Validation MAE = ':>25}{cv_mae_PBE}\")\n",
    "print(f\"{'Training MAE = ':>25}{train_mae_PBE}\")"
   ]
  }
 ],
 "metadata": {
  "kernelspec": {
   "display_name": "Python 3 (ipykernel)",
   "language": "python",
   "name": "python3"
  },
  "language_info": {
   "codemirror_mode": {
    "name": "ipython",
    "version": 3
   },
   "file_extension": ".py",
   "mimetype": "text/x-python",
   "name": "python",
   "nbconvert_exporter": "python",
   "pygments_lexer": "ipython3",
   "version": "3.12.7"
  }
 },
 "nbformat": 4,
 "nbformat_minor": 5
}
